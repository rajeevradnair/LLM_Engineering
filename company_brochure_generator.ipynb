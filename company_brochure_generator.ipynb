{
  "nbformat": 4,
  "nbformat_minor": 0,
  "metadata": {
    "colab": {
      "provenance": [],
      "authorship_tag": "ABX9TyOvthGsGoQ1h2JekCqXiqA+",
      "include_colab_link": true
    },
    "kernelspec": {
      "name": "python3",
      "display_name": "Python 3"
    },
    "language_info": {
      "name": "python"
    }
  },
  "cells": [
    {
      "cell_type": "markdown",
      "metadata": {
        "id": "view-in-github",
        "colab_type": "text"
      },
      "source": [
        "<a href=\"https://colab.research.google.com/github/rajeevradnair/LLM_Engineering/blob/main/company_brochure_generator.ipynb\" target=\"_parent\"><img src=\"https://colab.research.google.com/assets/colab-badge.svg\" alt=\"Open In Colab\"/></a>"
      ]
    },
    {
      "cell_type": "code",
      "execution_count": 61,
      "metadata": {
        "colab": {
          "base_uri": "https://localhost:8080/"
        },
        "id": "Mb9gJLVJ0HGM",
        "outputId": "57f2c2c2-0fde-4b08-c122-59484428ad55"
      },
      "outputs": [
        {
          "output_type": "stream",
          "name": "stdout",
          "text": [
            "Requirement already satisfied: openai in /usr/local/lib/python3.11/dist-packages (1.81.0)\n",
            "Requirement already satisfied: anyio<5,>=3.5.0 in /usr/local/lib/python3.11/dist-packages (from openai) (4.9.0)\n",
            "Requirement already satisfied: distro<2,>=1.7.0 in /usr/local/lib/python3.11/dist-packages (from openai) (1.9.0)\n",
            "Requirement already satisfied: httpx<1,>=0.23.0 in /usr/local/lib/python3.11/dist-packages (from openai) (0.28.1)\n",
            "Requirement already satisfied: jiter<1,>=0.4.0 in /usr/local/lib/python3.11/dist-packages (from openai) (0.10.0)\n",
            "Requirement already satisfied: pydantic<3,>=1.9.0 in /usr/local/lib/python3.11/dist-packages (from openai) (2.11.4)\n",
            "Requirement already satisfied: sniffio in /usr/local/lib/python3.11/dist-packages (from openai) (1.3.1)\n",
            "Requirement already satisfied: tqdm>4 in /usr/local/lib/python3.11/dist-packages (from openai) (4.67.1)\n",
            "Requirement already satisfied: typing-extensions<5,>=4.11 in /usr/local/lib/python3.11/dist-packages (from openai) (4.13.2)\n",
            "Requirement already satisfied: idna>=2.8 in /usr/local/lib/python3.11/dist-packages (from anyio<5,>=3.5.0->openai) (3.10)\n",
            "Requirement already satisfied: certifi in /usr/local/lib/python3.11/dist-packages (from httpx<1,>=0.23.0->openai) (2025.4.26)\n",
            "Requirement already satisfied: httpcore==1.* in /usr/local/lib/python3.11/dist-packages (from httpx<1,>=0.23.0->openai) (1.0.9)\n",
            "Requirement already satisfied: h11>=0.16 in /usr/local/lib/python3.11/dist-packages (from httpcore==1.*->httpx<1,>=0.23.0->openai) (0.16.0)\n",
            "Requirement already satisfied: annotated-types>=0.6.0 in /usr/local/lib/python3.11/dist-packages (from pydantic<3,>=1.9.0->openai) (0.7.0)\n",
            "Requirement already satisfied: pydantic-core==2.33.2 in /usr/local/lib/python3.11/dist-packages (from pydantic<3,>=1.9.0->openai) (2.33.2)\n",
            "Requirement already satisfied: typing-inspection>=0.4.0 in /usr/local/lib/python3.11/dist-packages (from pydantic<3,>=1.9.0->openai) (0.4.1)\n"
          ]
        }
      ],
      "source": [
        "!pip install openai"
      ]
    },
    {
      "cell_type": "code",
      "source": [
        "pip install iPython"
      ],
      "metadata": {
        "colab": {
          "base_uri": "https://localhost:8080/"
        },
        "id": "zuxjwwO6AXUx",
        "outputId": "812b1225-bd28-44ee-8be7-27c95bdda059"
      },
      "execution_count": 62,
      "outputs": [
        {
          "output_type": "stream",
          "name": "stdout",
          "text": [
            "Requirement already satisfied: iPython in /usr/local/lib/python3.11/dist-packages (7.34.0)\n",
            "Requirement already satisfied: setuptools>=18.5 in /usr/local/lib/python3.11/dist-packages (from iPython) (75.2.0)\n",
            "Requirement already satisfied: jedi>=0.16 in /usr/local/lib/python3.11/dist-packages (from iPython) (0.19.2)\n",
            "Requirement already satisfied: decorator in /usr/local/lib/python3.11/dist-packages (from iPython) (4.4.2)\n",
            "Requirement already satisfied: pickleshare in /usr/local/lib/python3.11/dist-packages (from iPython) (0.7.5)\n",
            "Requirement already satisfied: traitlets>=4.2 in /usr/local/lib/python3.11/dist-packages (from iPython) (5.7.1)\n",
            "Requirement already satisfied: prompt-toolkit!=3.0.0,!=3.0.1,<3.1.0,>=2.0.0 in /usr/local/lib/python3.11/dist-packages (from iPython) (3.0.51)\n",
            "Requirement already satisfied: pygments in /usr/local/lib/python3.11/dist-packages (from iPython) (2.19.1)\n",
            "Requirement already satisfied: backcall in /usr/local/lib/python3.11/dist-packages (from iPython) (0.2.0)\n",
            "Requirement already satisfied: matplotlib-inline in /usr/local/lib/python3.11/dist-packages (from iPython) (0.1.7)\n",
            "Requirement already satisfied: pexpect>4.3 in /usr/local/lib/python3.11/dist-packages (from iPython) (4.9.0)\n",
            "Requirement already satisfied: parso<0.9.0,>=0.8.4 in /usr/local/lib/python3.11/dist-packages (from jedi>=0.16->iPython) (0.8.4)\n",
            "Requirement already satisfied: ptyprocess>=0.5 in /usr/local/lib/python3.11/dist-packages (from pexpect>4.3->iPython) (0.7.0)\n",
            "Requirement already satisfied: wcwidth in /usr/local/lib/python3.11/dist-packages (from prompt-toolkit!=3.0.0,!=3.0.1,<3.1.0,>=2.0.0->iPython) (0.2.13)\n"
          ]
        }
      ]
    },
    {
      "cell_type": "code",
      "source": [
        "pip install ipython"
      ],
      "metadata": {
        "colab": {
          "base_uri": "https://localhost:8080/"
        },
        "id": "RMlOJuo6A3rx",
        "outputId": "f0e77687-2f48-4866-9a2e-1ec668d20cbf"
      },
      "execution_count": 63,
      "outputs": [
        {
          "output_type": "stream",
          "name": "stdout",
          "text": [
            "Requirement already satisfied: ipython in /usr/local/lib/python3.11/dist-packages (7.34.0)\n",
            "Requirement already satisfied: setuptools>=18.5 in /usr/local/lib/python3.11/dist-packages (from ipython) (75.2.0)\n",
            "Requirement already satisfied: jedi>=0.16 in /usr/local/lib/python3.11/dist-packages (from ipython) (0.19.2)\n",
            "Requirement already satisfied: decorator in /usr/local/lib/python3.11/dist-packages (from ipython) (4.4.2)\n",
            "Requirement already satisfied: pickleshare in /usr/local/lib/python3.11/dist-packages (from ipython) (0.7.5)\n",
            "Requirement already satisfied: traitlets>=4.2 in /usr/local/lib/python3.11/dist-packages (from ipython) (5.7.1)\n",
            "Requirement already satisfied: prompt-toolkit!=3.0.0,!=3.0.1,<3.1.0,>=2.0.0 in /usr/local/lib/python3.11/dist-packages (from ipython) (3.0.51)\n",
            "Requirement already satisfied: pygments in /usr/local/lib/python3.11/dist-packages (from ipython) (2.19.1)\n",
            "Requirement already satisfied: backcall in /usr/local/lib/python3.11/dist-packages (from ipython) (0.2.0)\n",
            "Requirement already satisfied: matplotlib-inline in /usr/local/lib/python3.11/dist-packages (from ipython) (0.1.7)\n",
            "Requirement already satisfied: pexpect>4.3 in /usr/local/lib/python3.11/dist-packages (from ipython) (4.9.0)\n",
            "Requirement already satisfied: parso<0.9.0,>=0.8.4 in /usr/local/lib/python3.11/dist-packages (from jedi>=0.16->ipython) (0.8.4)\n",
            "Requirement already satisfied: ptyprocess>=0.5 in /usr/local/lib/python3.11/dist-packages (from pexpect>4.3->ipython) (0.7.0)\n",
            "Requirement already satisfied: wcwidth in /usr/local/lib/python3.11/dist-packages (from prompt-toolkit!=3.0.0,!=3.0.1,<3.1.0,>=2.0.0->ipython) (0.2.13)\n"
          ]
        }
      ]
    },
    {
      "cell_type": "code",
      "source": [
        "from google.colab import userdata\n",
        "from openai import OpenAI\n",
        "\n",
        "#fetch API key to OpenAI API layer\n",
        "openai_api_key=userdata.get('OPENAI_API_KEY')\n",
        "openai=OpenAI(api_key=openai_api_key)\n",
        "\n",
        "#create an OpenAI client\n",
        "if openai:\n",
        "  print(f'openai client created: {openai} ')\n",
        "\n",
        "else:\n",
        "  print(f'Issues in creating a client to the OpenAI API layer')"
      ],
      "metadata": {
        "colab": {
          "base_uri": "https://localhost:8080/",
          "height": 358
        },
        "id": "0h5WMEWv1vcB",
        "outputId": "36566ecf-9281-42cf-9428-9d3f4fb83dc3"
      },
      "execution_count": 16,
      "outputs": [
        {
          "output_type": "stream",
          "name": "stdout",
          "text": [
            "openai client created: <openai.OpenAI object at 0x7cd0ba40d0d0> \n"
          ]
        },
        {
          "output_type": "error",
          "ename": "NameError",
          "evalue": "name 'List' is not defined",
          "traceback": [
            "\u001b[0;31m---------------------------------------------------------------------------\u001b[0m",
            "\u001b[0;31mNameError\u001b[0m                                 Traceback (most recent call last)",
            "\u001b[0;32m<ipython-input-16-cb7c94365d2b>\u001b[0m in \u001b[0;36m<cell line: 0>\u001b[0;34m()\u001b[0m\n\u001b[1;32m     14\u001b[0m \u001b[0;34m\u001b[0m\u001b[0m\n\u001b[1;32m     15\u001b[0m \u001b[0;34m\u001b[0m\u001b[0m\n\u001b[0;32m---> 16\u001b[0;31m \u001b[0;32mclass\u001b[0m \u001b[0mWebsite\u001b[0m\u001b[0;34m:\u001b[0m\u001b[0;34m\u001b[0m\u001b[0;34m\u001b[0m\u001b[0m\n\u001b[0m\u001b[1;32m     17\u001b[0m   \u001b[0murl\u001b[0m\u001b[0;34m:\u001b[0m \u001b[0mstr\u001b[0m\u001b[0;34m\u001b[0m\u001b[0;34m\u001b[0m\u001b[0m\n\u001b[1;32m     18\u001b[0m   \u001b[0mtitle\u001b[0m\u001b[0;34m:\u001b[0m \u001b[0mstr\u001b[0m\u001b[0;34m\u001b[0m\u001b[0;34m\u001b[0m\u001b[0m\n",
            "\u001b[0;32m<ipython-input-16-cb7c94365d2b>\u001b[0m in \u001b[0;36mWebsite\u001b[0;34m()\u001b[0m\n\u001b[1;32m     18\u001b[0m   \u001b[0mtitle\u001b[0m\u001b[0;34m:\u001b[0m \u001b[0mstr\u001b[0m\u001b[0;34m\u001b[0m\u001b[0;34m\u001b[0m\u001b[0m\n\u001b[1;32m     19\u001b[0m   \u001b[0mbody\u001b[0m\u001b[0;34m:\u001b[0m \u001b[0mstr\u001b[0m\u001b[0;34m\u001b[0m\u001b[0;34m\u001b[0m\u001b[0m\n\u001b[0;32m---> 20\u001b[0;31m   \u001b[0mlinks\u001b[0m\u001b[0;34m:\u001b[0m \u001b[0mList\u001b[0m\u001b[0;34m(\u001b[0m\u001b[0mstr\u001b[0m\u001b[0;34m)\u001b[0m\u001b[0;34m\u001b[0m\u001b[0;34m\u001b[0m\u001b[0m\n\u001b[0m\u001b[1;32m     21\u001b[0m   \u001b[0mtext\u001b[0m\u001b[0;34m:\u001b[0m \u001b[0mstr\u001b[0m\u001b[0;34m\u001b[0m\u001b[0;34m\u001b[0m\u001b[0m\n\u001b[1;32m     22\u001b[0m \u001b[0;34m\u001b[0m\u001b[0m\n",
            "\u001b[0;31mNameError\u001b[0m: name 'List' is not defined"
          ]
        }
      ]
    },
    {
      "cell_type": "code",
      "source": [
        "from typing import List\n",
        "from bs4 import BeautifulSoup\n",
        "import requests\n",
        "\n",
        "headers = {\n",
        " \"User-Agent\": \"Mozilla/5.0 (Windows NT 10.0; Win64; x64) AppleWebKit/537.36 (KHTML, like Gecko) Chrome/117.0.0.0 Safari/537.36\"\n",
        "}\n",
        "\n",
        "#Website parser, collects title, text, body & links on the page at a given URL\n",
        "class Website:\n",
        "  def __init__(self, url) -> None:\n",
        "    self.url=url\n",
        "    response=requests.get(url, headers=headers)\n",
        "    self.body=response.content\n",
        "    soup=BeautifulSoup(self.body, 'html.parser')\n",
        "    self.title=soup.title.string if soup.title else 'No title found'\n",
        "    if soup.body:\n",
        "      for irrelevant in soup.body([\"script\", \"style\", \"img\", \"input\"]):\n",
        "        irrelevant.decompose()\n",
        "      self.text = soup.body.get_text(separator=\"\\n\", strip=True)\n",
        "    else:\n",
        "        self.text = \"\"\n",
        "    links = [link.get('href') for link in soup.find_all('a')]\n",
        "\n",
        "    self.links = [link for link in links if link]\n",
        "\n",
        "  def get_contents(self):\n",
        "    return f'Webpage Title:\\n{self.title}\\nWebPage Contents:\\n{self.text}'\n",
        "\n",
        "\n",
        "ws = Website(\"https://apple.com\")\n",
        "ws.links"
      ],
      "metadata": {
        "id": "ikFelpLo3b5E"
      },
      "execution_count": null,
      "outputs": []
    },
    {
      "cell_type": "code",
      "source": [
        "link_system_prompt = \"You are provided with a list of links found on a webpage. \\\n",
        "You are able to decide which of the links would be most relevant to include in a brochure about the company, \\\n",
        "such as links to an About page, or a Company page, or Careers/Jobs pages.\\n\"\n",
        "link_system_prompt += \"You should respond in JSON as in this example:\"\n",
        "link_system_prompt += \"\"\"\n",
        "{\n",
        "    \"links\": [\n",
        "        {\"type\": \"about page\", \"url\": \"https://full.url/goes/here/about\"},\n",
        "        {\"type\": \"careers page\": \"url\": \"https://another.full.url/careers\"}\n",
        "    ]\n",
        "}\n",
        "\"\"\"\n",
        "print(link_system_prompt)\n"
      ],
      "metadata": {
        "colab": {
          "base_uri": "https://localhost:8080/"
        },
        "id": "nFQnhZEa6fqQ",
        "outputId": "0bc52d89-d431-42d1-deee-4d390bdf4998"
      },
      "execution_count": 42,
      "outputs": [
        {
          "output_type": "stream",
          "name": "stdout",
          "text": [
            "You are provided with a list of links found on a webpage. You are able to decide which of the links would be most relevant to include in a brochure about the company, such as links to an About page, or a Company page, or Careers/Jobs pages.\n",
            "You should respond in JSON as in this example:\n",
            "{\n",
            "    \"links\": [\n",
            "        {\"type\": \"about page\", \"url\": \"https://full.url/goes/here/about\"},\n",
            "        {\"type\": \"careers page\": \"url\": \"https://another.full.url/careers\"}\n",
            "    ]\n",
            "}\n",
            "\n"
          ]
        }
      ]
    },
    {
      "cell_type": "code",
      "source": [
        "def get_links_user_prompt(website):\n",
        "    user_prompt = f\"Here is the list of links on the website of {website.url} - \"\n",
        "    user_prompt += \"please decide which of these are relevant web links for a brochure about the company, respond with the full https URL in JSON format. \\\n",
        "Do not include Terms of Service, Privacy, email links.\\n\"\n",
        "    user_prompt += \"Links (some might be relative links):\\n\"\n",
        "    user_prompt += \"\\n\".join(website.links)\n",
        "    return user_prompt\n",
        "\n",
        "print(get_links_user_prompt(ws))\n"
      ],
      "metadata": {
        "id": "nkzL_S-K7Fet"
      },
      "execution_count": null,
      "outputs": []
    },
    {
      "cell_type": "code",
      "source": [
        "MODEL = 'gpt-4o-mini'\n",
        "\n",
        "import json\n",
        "def get_links(url):\n",
        "    website = Website(url)\n",
        "    response = openai.chat.completions.create(\n",
        "        model=MODEL,\n",
        "        messages=[\n",
        "            {\"role\": \"system\", \"content\": link_system_prompt},\n",
        "            {\"role\": \"user\", \"content\": get_links_user_prompt(website)}\n",
        "        ],\n",
        "        response_format={\"type\": \"json_object\"}\n",
        "    )\n",
        "    result = response.choices[0].message.content\n",
        "    return json.loads(result)\n",
        "\n",
        "get_links('https://google.com')"
      ],
      "metadata": {
        "colab": {
          "base_uri": "https://localhost:8080/"
        },
        "id": "b6PHUoyY979E",
        "outputId": "8630b856-66b7-4480-fff2-79aa3585aea3"
      },
      "execution_count": 48,
      "outputs": [
        {
          "output_type": "execute_result",
          "data": {
            "text/plain": [
              "{'links': [{'type': 'about page',\n",
              "   'url': 'https://about.google/?utm_source=google-US&utm_medium=referral&utm_campaign=hp-footer&fg=1'},\n",
              "  {'type': 'products page',\n",
              "   'url': 'https://www.google.com/intl/en/about/products'},\n",
              "  {'type': 'services page',\n",
              "   'url': 'https://www.google.com/services/?subid=ww-ww-et-g-awa-a-g_hpbfoot1_1!o2&utm_source=google.com&utm_medium=referral&utm_campaign=google_hpbfooter&fg=1'},\n",
              "  {'type': 'career page',\n",
              "   'url': 'https://ai.google/societal-impact/?utm_source=googlehpfooter&utm_medium=housepromos&utm_campaign=bottom-footer'}]}"
            ]
          },
          "metadata": {},
          "execution_count": 48
        }
      ]
    },
    {
      "cell_type": "code",
      "source": [
        "def get_all_details(url):\n",
        "    result = \"Landing page:\\n\"\n",
        "    result += Website(url).get_contents()\n",
        "    links = get_links(url)\n",
        "    print(\"Found links:\", links)\n",
        "    for link in links[\"links\"]:\n",
        "        result += f\"\\n\\n{link['type']}\\n\"\n",
        "        result += Website(link[\"url\"]).get_contents()\n",
        "    return result\n",
        "\n",
        "print(get_all_details(\"https://google.com\"))\n"
      ],
      "metadata": {
        "id": "Q1JbBfxB_fmb"
      },
      "execution_count": null,
      "outputs": []
    },
    {
      "cell_type": "code",
      "source": [
        "system_prompt = \"You are an assistant that analyzes the contents of several relevant pages from a company website \\\n",
        "and creates a short brochure about the company for prospective customers, investors and recruits. Respond in markdown.\\\n",
        "Include details of company culture, customers and careers/jobs if you have the information.\"\n",
        "\n",
        "def get_brochure_user_prompt(company_name, url):\n",
        "    user_prompt = f\"You are looking at a company called: {company_name}\\n\"\n",
        "    user_prompt += f\"Here are the contents of its landing page and other relevant pages; use this information to build a short brochure of the company in markdown.\\n\"\n",
        "    user_prompt += get_all_details(url)\n",
        "    user_prompt = user_prompt[:5_000] # Truncate if more than 5,000 characters\n",
        "    return user_prompt\n",
        "\n",
        "get_brochure_user_prompt(\"Google\", \"https://google.com\")\n"
      ],
      "metadata": {
        "colab": {
          "base_uri": "https://localhost:8080/",
          "height": 163
        },
        "id": "e9Iz5r6N_t1f",
        "outputId": "6c635337-b950-44b1-f0a0-ba3318c456cc"
      },
      "execution_count": 51,
      "outputs": [
        {
          "output_type": "stream",
          "name": "stdout",
          "text": [
            "Found links: {'links': [{'type': 'about page', 'url': 'https://about.google/?fg=1&utm_source=google-US&utm_medium=referral&utm_campaign=hp-header'}, {'type': 'products page', 'url': 'https://www.google.com/intl/en/about/products'}, {'type': 'services page', 'url': 'https://www.google.com/services/?subid=ww-ww-et-g-awa-a-g_hpbfoot1_1!o2&utm_source=google.com&utm_medium=referral&utm_campaign=google_hpbfooter&fg=1'}, {'type': 'how search works page', 'url': 'https://google.com/search/howsearchworks/?fg=1'}, {'type': 'societal impact page', 'url': 'https://ai.google/societal-impact/?utm_source=googlehpfooter&utm_medium=housepromos&utm_campaign=bottom-footer'}]}\n"
          ]
        },
        {
          "output_type": "execute_result",
          "data": {
            "text/plain": [
              "\"You are looking at a company called: Google\\nHere are the contents of its landing page and other relevant pages; use this information to build a short brochure of the company in markdown.\\nLanding page:\\nWebpage Title:\\nGoogle\\nWebPage Contents:\\nAbout\\nStore\\nGmail\\nImages\\nSign in\\nSee more\\nDelete\\nDelete\\nReport inappropriate predictions\\nAdvertising\\nBusiness\\nHow Search works\\nApplying AI towards science and the environment\\nPrivacy\\nTerms\\nSettings\\nSearch settings\\nAdvanced search\\nYour data in Search\\nSearch history\\nSearch help\\nSend feedback\\nDark theme: Off\\nGoogle apps\\n\\nabout page\\nWebpage Title:\\nAbout Google: Our products, technology and company information - About Google\\nWebPage Contents:\\nJump to Content\\nAbout\\nProducts\\nCompany Info\\nNews\\nGoogle I/O 2025\\nCatch up on everything we announced at I/O — from all the latest model updates,\\n                    to new and helpful ways we’re bringing AI into our products.\\nLearn more\\nproducts\\nExplore our products and features across Search, Google Workspace and more\\ntechnology\\nLearn all about our leading AI models — and discover their capabilities\\nresearch\\nSee how we’re tackling some of the most challenging problems in computer\\n                          science\\nGoogle Photos turns 10! Celebrate with new features\\nFind all editing tools in one spot with our redesigned editor, and share albums\\n                    instantly using QR codes. Plus, discover some of our favorite tips and tricks.\\nSay cheese\\nWatch the Google I/O recap\\nLink to Youtube Video\\n(visible only when JS is disabled)\\nGoogle around the globe\\nLearn more about Google's work and impact around the world.\\nExplore\\nGet the latest news from Google in your inbox\\nSign up to receive top stories from the week — from product announcements, to\\n                      everyday tips and tricks.\\nSubscribe\\nFooter links\\nResources\\nBlog\\nBrand Resource Center\\nCareers\\nContact us\\nHelp Center\\nInvestor Relations\\nLocations\\nPress resources\\nOutreach and initiatives\\nAccessibility\\nCrisis Response\\nGoogle.org\\nGoogle Health\\nGrow with Google\\nLearning\\nPublic Policy\\nSustainability\\nResearch and technology\\nGoogle AI\\nGoogle Cloud\\nGoogle DeepMind\\nGoogle for Developers\\nGoogle Labs\\nGoogle Research\\nMore about us\\nHuman rights\\nSafety Center\\nSupplier responsibility\\nTransparency Center\\nTransparency Report\\nPrivacy\\nTerms\\nCookies management controls\\nHelp\\nEnglish\\nBahasa Indonesia\\nDeutsch\\nEspañol\\nFrançais\\nItaliano\\nNederlands\\nPortuguês\\nTürkçe\\npolski\\nالعربية\\n中文 (繁體)\\n中文（简体）\\n日本語\\n한국어\\n\\nproducts page\\nWebpage Title:\\nGoogle’s products and services - About Google\\nWebPage Contents:\\nJump to Content\\nAbout\\nProducts\\nCompany Info\\nNews\\nHelpful products,\\nbuilt with you in mind\\nProduct support\\nGoogle Store\\nYour Google Account\\nJump to our products\\nHow Google Search works\\nGet the details on how Search works — from the technology we make, to the\\n                          approach we take.\\nLearn more\\nNew ways to learn, explore and create\\nCircle to Search\\nSearch anything on your Android phone with a simple gesture — like circling,\\n                      highlighting, scribbling or tapping.\\nGemini for Google Workspace\\nBe more productive with Gemini, built right into Gmail, Docs, Sheets and\\n                      more.\\nImmersive View\\nVirtually explore a place in Maps, with details like weather and busyness to\\n                      help you feel like you’re really there.\\nChat with Gemini\\nStart writing, planning and learning with your AI-powered assistant.\\nAsk away\\nAll things Android\\nPhones\\nBrowse foldables, the latest phones with Gemini, and more.\\nAuto\\nNavigate smoothly, communicate easily and stay entertained on the road.\\nTablets\\nMultitask, play games and discover new apps, all on a bigger screen.\\nWatches\\nConnect to Google apps, and monitor your health and fitness — right from your\\n                  wrist.\\nGet to know the Pixel portfolio\\nFrom phones and watches, to earbuds and the tablet, get personalized help\\n                          from Pixel throughout your day.\\nDive in\\nPicture this\\nCreate scroll-stoppers with Google Photos AI editing tools.\\nPhoto Unblur\\nClear up blurry shots to relive your favorite moments.\\nMagic Eraser\\nRemove unwanted distractions with a quick tap.\\nAI in our products\\nSee how you can start using Google AI in Chrome, Search, YouTube and more.\\nLearn more\\nGet accessibility support\\nBrowse topics or connect with our specialists.\\nLearn more\\nGoogle products\\nFilter by:\\nFeatured\\nFor all\\nFor business\\nFor developers\\nAndroid\\nAndroid Auto\\nAndroid TV\\nCars with Google built-in\\nChrome\\nChromebook\\nContacts\\nDigital Wellbeing\\nFiles\\nFinance\\nFitbit\\nFlights\\nGboard\\nGemini\\nGmail\\nGoogle Arts & Culture\\nGoogle Assistant\\nGoogle Authenticator\\nGoogle Calendar\\nGoogle Cast\\nGoogle Chat\\nGoogle Classroom\\nGoogle Docs\\nGoogle Drive\\nGoogle Earth\\nGoogle Family Link\\nGoogle Fi Wireless\\nGoogle Find My Device\\nGoogle Fit\\nGoogle Fonts\\nGoogle Forms\\nGoogle Health Studies\\nGoogle Home\\nGoogle Keep\\nGoogle Maps\\nGoogle Meet\\nGoogle Messages\\nGoogle Nest\\nGoogle News\\nGoogle One\\nGoogle Pay\\nGoogle Photos\\nGoogle Play\\nGoogle Play Books\\nGoogle\""
            ],
            "application/vnd.google.colaboratory.intrinsic+json": {
              "type": "string"
            }
          },
          "metadata": {},
          "execution_count": 51
        }
      ]
    },
    {
      "cell_type": "code",
      "source": [
        "#from ipython.display import Markdown, display, update_display\n",
        "def create_brochure(company_name, url):\n",
        "    response = openai.chat.completions.create(\n",
        "        model=MODEL,\n",
        "        messages=[\n",
        "            {\"role\": \"system\", \"content\": system_prompt},\n",
        "            {\"role\": \"user\", \"content\": get_brochure_user_prompt(company_name, url)}\n",
        "          ],\n",
        "    )\n",
        "    result = response.choices[0].message.content\n",
        "    print(result)\n",
        "\n",
        "create_brochure(\"Google\", \"https://google.com\")\n"
      ],
      "metadata": {
        "colab": {
          "base_uri": "https://localhost:8080/"
        },
        "id": "4xSbw85V_5sT",
        "outputId": "64fc7576-2f07-4f34-c489-4c41dede7b89"
      },
      "execution_count": 65,
      "outputs": [
        {
          "output_type": "stream",
          "name": "stdout",
          "text": [
            "Found links: {'links': [{'type': 'about page', 'url': 'https://about.google/?fg=1&utm_source=google-US&utm_medium=referral&utm_campaign=hp-header'}, {'type': 'products page', 'url': 'https://www.google.com/intl/en/about/products'}, {'type': 'services page', 'url': 'https://www.google.com/services/?subid=ww-ww-et-g-awa-a-g_hpbfoot1_1!o2&utm_source=google.com&utm_medium=referral&utm_campaign=google_hpbfooter&fg=1'}, {'type': 'how search works page', 'url': 'https://google.com/search/howsearchworks/?fg=1'}, {'type': 'societal impact page', 'url': 'https://ai.google/societal-impact/?utm_source=googlehpfooter&utm_medium=housepromos&utm_campaign=bottom-footer'}]}\n",
            "# Google Company Brochure\n",
            "\n",
            "---\n",
            "\n",
            "## About Us\n",
            "Google is a global technology leader that provides an array of products and services designed to enhance and simplify the digital experience. Our mission to \"organize the world's information and make it universally accessible and useful\" is reflected in everything we do.\n",
            "\n",
            "---\n",
            "\n",
            "## Our Products\n",
            "Explore a wide range of products that include:\n",
            "\n",
            "- **Google Search**: The engine that started it all.\n",
            "- **Google Workspace**: Tools for collaboration including Gmail, Docs, Sheets, and more.\n",
            "- **Google AI**: Advanced technologies that improve user experiences across platforms.\n",
            "- **Google Cloud**: Scalable and secure cloud computing solutions.\n",
            "- **Devices**: Innovate with our line of Pixel phones, tablets, smartwatches, and accessories, all integrated with Google's intelligent technology.\n",
            "\n",
            "**Spotlight**:  \n",
            "- **Gemini**: An AI-powered assistant integrated into Google Workspace for enhanced productivity.\n",
            "- **Immersive View**: Experience virtual explorations through Google Maps, allowing users to plan ahead with confidence.\n",
            "\n",
            "---\n",
            "\n",
            "## Company Culture\n",
            "At Google, we foster a culture of innovation, inclusivity, and collaboration. Our work environments are designed to inspire creativity and support employee growth. We value diversity and maintain a commitment to social responsibility through initiatives that focus on sustainability, education, and public policy.\n",
            "\n",
            "- **Inclusive Community**: We actively promote a diverse workforce where all voices are valued.\n",
            "- **Continuous Learning**: We prioritize the development of our employees through various learning and growth opportunities.\n",
            "- **Health & Wellness**: We care for our employees' well-being with comprehensive health programs and a balanced work-life approach.\n",
            "\n",
            "---\n",
            "\n",
            "## Customers\n",
            "Google serves billions of users globally, from individuals seeking information to businesses looking for innovative solutions. Our customers span across all sectors, including but not limited to education, healthcare, and retail, enhancing productivity in every field.\n",
            "\n",
            "---\n",
            "\n",
            "## Careers at Google\n",
            "Join us in building the technology of tomorrow. Google is constantly looking for talented individuals across various disciplines, including:\n",
            "\n",
            "- **Engineering**\n",
            "- **Product Management**\n",
            "- **Sales & Marketing**\n",
            "- **Operations**\n",
            "- **Research & AI**\n",
            "\n",
            "We offer competitive salaries, excellent benefits, and opportunities to work with cutting-edge technology in an empowering environment.\n",
            "\n",
            "If you're ready to make an impact and innovate solutions that change the world, explore careers at [Google Careers](https://careers.google.com/).\n",
            "\n",
            "---\n",
            "\n",
            "## Get in Touch\n",
            "Stay connected with us for the latest updates and news by signing up for our newsletter or following us on social media. For additional information, please visit our [About Page](https://about.google).\n",
            "\n",
            "Thank you for your interest in Google! Let’s shape the future together.\n",
            "\n",
            "[Contact Us](https://about.google/contact) | [Privacy Policy](https://policies.google.com/privacy) | [Terms of Service](https://policies.google.com/terms)\n",
            "\n",
            "---\n",
            "\n",
            "*This brochure is designed for prospective customers, investors, and potential recruits to understand what Google stands for, the products we offer, and the opportunities available to join our team.*\n"
          ]
        }
      ]
    },
    {
      "cell_type": "code",
      "source": [
        "def stream_brochure(company_name, url):\n",
        "    stream = openai.chat.completions.create(\n",
        "        model=MODEL,\n",
        "        messages=[\n",
        "            {\"role\": \"system\", \"content\": system_prompt},\n",
        "            {\"role\": \"user\", \"content\": get_brochure_user_prompt(company_name, url)}\n",
        "          ],\n",
        "        stream=True\n",
        "    )\n",
        "\n",
        "    response = \"\"\n",
        "    display_handle = display(Markdown(\"\"), display_id=True)\n",
        "    for chunk in stream:\n",
        "        response += chunk.choices[0].delta.content or ''\n",
        "        response = response.replace(\"```\",\"\").replace(\"markdown\", \"\")\n",
        "        update_display(Markdown(response), display_id=display_handle.display_id)"
      ],
      "metadata": {
        "id": "U2o1xfqsBdbn"
      },
      "execution_count": null,
      "outputs": []
    }
  ]
}