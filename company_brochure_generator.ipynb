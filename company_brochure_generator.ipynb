{
  "nbformat": 4,
  "nbformat_minor": 0,
  "metadata": {
    "colab": {
      "provenance": [],
      "authorship_tag": "ABX9TyPG7TWw4dQsTZa6KCVIKoVW",
      "include_colab_link": true
    },
    "kernelspec": {
      "name": "python3",
      "display_name": "Python 3"
    },
    "language_info": {
      "name": "python"
    }
  },
  "cells": [
    {
      "cell_type": "markdown",
      "metadata": {
        "id": "view-in-github",
        "colab_type": "text"
      },
      "source": [
        "<a href=\"https://colab.research.google.com/github/rajeevradnair/LLM_Engineering/blob/main/company_brochure_generator.ipynb\" target=\"_parent\"><img src=\"https://colab.research.google.com/assets/colab-badge.svg\" alt=\"Open In Colab\"/></a>"
      ]
    },
    {
      "cell_type": "code",
      "execution_count": null,
      "metadata": {
        "id": "Mb9gJLVJ0HGM"
      },
      "outputs": [],
      "source": [
        "!pip install openai"
      ]
    },
    {
      "cell_type": "code",
      "source": [
        "pip install iPython"
      ],
      "metadata": {
        "id": "zuxjwwO6AXUx"
      },
      "execution_count": null,
      "outputs": []
    },
    {
      "cell_type": "code",
      "source": [
        "pip install ipython"
      ],
      "metadata": {
        "id": "RMlOJuo6A3rx"
      },
      "execution_count": null,
      "outputs": []
    },
    {
      "cell_type": "code",
      "source": [
        "from google.colab import userdata\n",
        "from openai import OpenAI\n",
        "\n",
        "#fetch API key to OpenAI API layer\n",
        "openai_api_key=userdata.get('OPENAI_API_KEY')\n",
        "openai=OpenAI(api_key=openai_api_key)\n",
        "\n",
        "#create an OpenAI client\n",
        "if openai:\n",
        "  print(f'openai client created: {openai} ')\n",
        "\n",
        "else:\n",
        "  print(f'Issues in creating a client to the OpenAI API layer')"
      ],
      "metadata": {
        "colab": {
          "base_uri": "https://localhost:8080/"
        },
        "id": "0h5WMEWv1vcB",
        "outputId": "2c06182a-2702-4fce-9740-bdcff4e8c709"
      },
      "execution_count": 96,
      "outputs": [
        {
          "output_type": "stream",
          "name": "stdout",
          "text": [
            "openai client created: <openai.OpenAI object at 0x7cd0b65583d0> \n"
          ]
        }
      ]
    },
    {
      "cell_type": "code",
      "source": [
        "from typing import List\n",
        "from bs4 import BeautifulSoup\n",
        "import requests\n",
        "\n",
        "#Website parser, collects title, text, body & links on the page at a given URL\n",
        "headers = {\n",
        " \"User-Agent\": \"Mozilla/5.0 (Windows NT 10.0; Win64; x64) AppleWebKit/537.36 (KHTML, like Gecko) Chrome/117.0.0.0 Safari/537.36\"\n",
        "}\n",
        "\n",
        "class Website:\n",
        "  def __init__(self, url) -> None:\n",
        "    self.url=url\n",
        "    response=requests.get(url, headers=headers)\n",
        "    self.body=response.content\n",
        "    soup=BeautifulSoup(self.body, 'html.parser')\n",
        "    self.title=soup.title.string if soup.title else 'No title found'\n",
        "    if soup.body:\n",
        "      for irrelevant in soup.body([\"script\", \"style\", \"img\", \"input\"]):\n",
        "        irrelevant.decompose()\n",
        "      self.text = soup.body.get_text(separator=\"\\n\", strip=True)\n",
        "    else:\n",
        "        self.text = \"\"\n",
        "    links = [link.get('href') for link in soup.find_all('a')]\n",
        "\n",
        "    self.links = [link for link in links if link]\n",
        "\n",
        "  def get_contents(self):\n",
        "    return f'Webpage Title:\\n{self.title}\\nWebPage Contents:\\n{self.text}'\n",
        "\n",
        "\n",
        "ws = Website(\"https://apple.com\")\n",
        "ws.links"
      ],
      "metadata": {
        "id": "ikFelpLo3b5E"
      },
      "execution_count": null,
      "outputs": []
    },
    {
      "cell_type": "code",
      "source": [
        "#Extract relevant links given a primary link\n",
        "THEME=['','SALES', 'MARKETING', 'VISION', 'SENIOR MANAGEMENT']\n",
        "\n",
        "link_system_prompt = \"You are provided with a list of links found on a webpage. \\\n",
        "You are able to decide which of the links would be most relevant to include in a brochure about the company, \\\n",
        "such as links to an About page, or a Company page, or Careers/Jobs pages.\\n\"\n",
        "link_system_prompt += \"You should respond in JSON as in this example:\"\n",
        "link_system_prompt += \"\"\"\n",
        "{\n",
        "    \"links\": [\n",
        "        {\"type\": \"about page\", \"url\": \"https://full.url/goes/here/about\"},\n",
        "        {\"type\": \"careers page\": \"url\": \"https://another.full.url/careers\"}\n",
        "    ]\n",
        "}\n",
        "\"\"\"\n",
        "\n",
        "def get_links_user_prompt(website, theme=''):\n",
        "    user_prompt = f\"Here is the list of links on the website of {website.url} - \"\n",
        "    user_prompt += \"please decide which of these are relevant web links for\"\n",
        "    if theme:\n",
        "      user_prompt += f\" the {theme} portion of\"\n",
        "    user_prompt += \" the brochure about the company, respond with the full https URL in JSON format. \\\n",
        "Do not include Terms of Service, Privacy, email links.\\n\"\n",
        "    user_prompt += \"Links (some might be relative links):\\n\"\n",
        "    user_prompt += \"\\n\".join(website.links)\n",
        "    return user_prompt\n",
        "\n",
        "print(get_links_user_prompt(ws,THEME[1]))\n"
      ],
      "metadata": {
        "id": "nkzL_S-K7Fet"
      },
      "execution_count": null,
      "outputs": []
    },
    {
      "cell_type": "code",
      "source": [
        "#Extract relevant links given a primary link\n",
        "MODEL = 'gpt-4o-mini'\n",
        "\n",
        "import json\n",
        "def get_links(url, theme):\n",
        "    website = Website(url)\n",
        "    response = openai.chat.completions.create(\n",
        "        model=MODEL,\n",
        "        messages=[\n",
        "            {\"role\": \"system\", \"content\": link_system_prompt},\n",
        "            {\"role\": \"user\", \"content\": get_links_user_prompt(website, theme)}\n",
        "        ],\n",
        "        response_format={\"type\": \"json_object\"}\n",
        "    )\n",
        "    result = response.choices[0].message.content\n",
        "    return json.loads(result)\n",
        "\n",
        "get_links('https://google.com')"
      ],
      "metadata": {
        "colab": {
          "base_uri": "https://localhost:8080/"
        },
        "id": "b6PHUoyY979E",
        "outputId": "9ff3f51e-7467-4b4d-fa93-fd76ea260825"
      },
      "execution_count": 100,
      "outputs": [
        {
          "output_type": "execute_result",
          "data": {
            "text/plain": [
              "{'links': [{'type': 'about page',\n",
              "   'url': 'https://about.google/?fg=1&utm_source=google-US&utm_medium=referral&utm_campaign=hp-header'},\n",
              "  {'type': 'store page',\n",
              "   'url': 'https://store.google.com/US?utm_source=hp_header&utm_medium=google_ooo&utm_campaign=GS100042&hl=en-US'},\n",
              "  {'type': 'ads page',\n",
              "   'url': 'https://www.google.com/intl/en_us/ads/?subid=ww-ww-et-g-awa-a-g_hpafoot1_1!o2&utm_source=google.com&utm_medium=referral&utm_campaign=google_hpafooter&fg=1'},\n",
              "  {'type': 'services page',\n",
              "   'url': 'https://www.google.com/services/?subid=ww-ww-et-g-awa-a-g_hpbfoot1_1!o2&utm_source=google.com&utm_medium=referral&utm_campaign=google_hpbfooter&fg=1'}]}"
            ]
          },
          "metadata": {},
          "execution_count": 100
        }
      ]
    },
    {
      "cell_type": "code",
      "source": [
        "#Extract all URLs from given a primary URL, find relevant ones and extract details of the relevant URLs\n",
        "def get_all_details(url, theme):\n",
        "    result = \"Landing page:\\n\"\n",
        "    result += Website(url).get_contents()\n",
        "    links = get_links(url, theme)\n",
        "    print(\"Found links:\", links)\n",
        "    for link in links[\"links\"]:\n",
        "        result += f\"\\n\\n{link['type']}\\n\"\n",
        "        result += Website(link[\"url\"]).get_contents()\n",
        "    return result\n",
        "\n",
        "print(get_all_details(\"https://google.com\"))\n"
      ],
      "metadata": {
        "id": "Q1JbBfxB_fmb"
      },
      "execution_count": null,
      "outputs": []
    },
    {
      "cell_type": "code",
      "source": [
        "#Systems and user prompts to create a brochure given the details of all extracted, but relevant URLs\n",
        "system_prompt = \"You are an assistant that analyzes the contents of several relevant pages from a company website \\\n",
        "and creates a short brochure in English about the company for prospective customers, investors and recruits. Respond in markdown.\\\n",
        "Include details of company culture, customers and careers/jobs if you have the information.\"\n",
        "\n",
        "def get_brochure_user_prompt(company_name, url):\n",
        "    user_prompt = f\"You are looking at a company called: {company_name}\\n\"\n",
        "    user_prompt += f\"Here are the contents of its landing page and other relevant pages; use this information to build a short brochure of the company in markdown.\\n\"\n",
        "    user_prompt += get_all_details(url)\n",
        "    user_prompt = user_prompt[:5_000] # Truncate if more than 5,000 characters\n",
        "    return user_prompt\n",
        "\n",
        "get_brochure_user_prompt(\"Google\", \"https://google.com\")\n"
      ],
      "metadata": {
        "id": "e9Iz5r6N_t1f"
      },
      "execution_count": null,
      "outputs": []
    },
    {
      "cell_type": "code",
      "source": [
        "#Final output i.e. the Brochure\n",
        "from IPython.display import Markdown, display, update_display\n",
        "def create_brochure(company_name, url):\n",
        "    response = openai.chat.completions.create(\n",
        "        model=MODEL,\n",
        "        messages=[\n",
        "            {\"role\": \"system\", \"content\": system_prompt},\n",
        "            {\"role\": \"user\", \"content\": get_brochure_user_prompt(company_name, url)}\n",
        "          ],\n",
        "    )\n",
        "    result = response.choices[0].message.content\n",
        "    display(Markdown(result))\n",
        "\n",
        "create_brochure(\"Google\", \"https://google.com\")\n"
      ],
      "metadata": {
        "id": "4xSbw85V_5sT"
      },
      "execution_count": null,
      "outputs": []
    },
    {
      "cell_type": "code",
      "source": [
        "#Final output i.e. the Brochure in streaming format\n",
        "from IPython.display import Markdown, display, update_display\n",
        "def create_brochure(company_name, url):\n",
        "    stream = openai.chat.completions.create(\n",
        "        model=MODEL,\n",
        "        messages=[\n",
        "            {\"role\": \"system\", \"content\": system_prompt},\n",
        "            {\"role\": \"user\", \"content\": get_brochure_user_prompt(company_name, url)}\n",
        "          ],\n",
        "        stream=True\n",
        "    )\n",
        "    response=''\n",
        "    display_handle=display(Markdown(''), display_id=True)\n",
        "    for chunk in stream:\n",
        "      response+=chunk.choices[0].delta.content or ''\n",
        "      response=response.replace(\"```\",\"\").replace(\"markdown\", \"\")\n",
        "      update_display(Markdown(response), display_id=display_handle.display_id)\n",
        "\n",
        "create_brochure(\"Google\", \"https://google.com\")"
      ],
      "metadata": {
        "colab": {
          "base_uri": "https://localhost:8080/",
          "height": 1000
        },
        "id": "cjEM6woxOaMl",
        "outputId": "221a6c22-ddbe-4736-f55a-242845da9e95"
      },
      "execution_count": 107,
      "outputs": [
        {
          "output_type": "stream",
          "name": "stdout",
          "text": [
            "Found links: {'links': [{'type': 'about page', 'url': 'https://about.google/?fg=1&utm_source=google-US&utm_medium=referral&utm_campaign=hp-header'}, {'type': 'store page', 'url': 'https://store.google.com/US?utm_source=hp_header&utm_medium=google_ooo&utm_campaign=GS100042&hl=en-US'}, {'type': 'ads page', 'url': 'https://www.google.com/intl/en_us/ads/?subid=ww-ww-et-g-awa-a-g_hpafoot1_1!o2&utm_source=google.com&utm_medium=referral&utm_campaign=google_hpafooter&fg=1'}, {'type': 'services page', 'url': 'https://www.google.com/services/?subid=ww-ww-et-g-awa-a-g_hpbfoot1_1!o2&utm_source=google.com&utm_medium=referral&utm_campaign=google_hpbfooter&fg=1'}]}\n"
          ]
        },
        {
          "output_type": "display_data",
          "data": {
            "text/plain": [
              "<IPython.core.display.Markdown object>"
            ],
            "text/markdown": "# Google Company Brochure\n\n## About Us\nAt Google, we strive to organize the world's information and make it universally accessible and useful. Founded in 1998, we have become a leader in technology, heavily investing in areas like artificial intelligence (AI) and cloud computing to enhance user experiences across our products.\n\n## Our Products\nGoogle offers a wide array of products and services, including:\n\n- **Search Engine**: The most used search engine globally.\n- **Google Workspace**: Tools like Gmail, Google Drive, Google Docs, and Google Meet for productivity and collaboration.\n- **Hardware**: Innovative devices such as the Pixel smartphones, Pixel Buds, Google Nest products, and more, designed to integrate seamlessly with our services.\n\n### AI at the Core\nWe're committed to integrating AI in meaningful ways, from enhancing search functionalities to developing advanced models that solve real-world challenges.\n\n## Company Culture\nAt Google, we believe that our employees are our greatest asset. Our culture is centered around:\n\n- **Innovation**: Encouraging teams to embrace creativity and back new ideas.\n- **Diversity and Inclusion**: Fostering a workplace that celebrates diverse perspectives.\n- **Well-being**: Prioritizing employee health through supportive programs and flexible working environments.\n\nOur offices worldwide reflect this ethos, providing collaborative spaces and numerous amenities to ensure a fulfilling work-life balance.\n\n## Customer Base\nOur users span across individual consumers, small businesses, and large enterprises. Google is committed to providing tools that help users achieve more, whether it's enhancing personal productivity or powering complex enterprise solutions.\n\n## Careers at Google\nGoogle is a place where you can make an impact. We are always looking for talent who are passionate about technology and want to challenge the status quo. We offer:\n\n- **Professional Growth**: Opportunities for learning and advancement in numerous fields.\n- **Inclusive Environment**: A workforce that celebrates diversity and inclusivity.\n- **Competitive Benefits**: Comprehensive health plans, retirement options, and unique perks to support employee well-being.\n\nExplore your future with us by checking out our careers page!\n\n## Join Us\nWhether you're a prospective klant, investor, or talent, we welcome you to be part of our journey in shaping the future of technology. For inquiries or more information, visit our website!\n\n---\n\n**Contact Us**\nFor questions, support, or more information, visit our website at [Google.com](https://www.google.com).\n\n**Follow Us**\nStay updated with the latest announcements and trends by subscribing to our news updates!"
          },
          "metadata": {}
        }
      ]
    }
  ]
}